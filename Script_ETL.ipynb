{
  "cells": [
    {
      "cell_type": "markdown",
      "metadata": {
        "id": "itPL_tx-nQDP"
      },
      "source": [
        "# Importamos las librerías necesarias para crear el flujo de trabajo"
      ]
    },
    {
      "cell_type": "code",
      "execution_count": 7,
      "metadata": {
        "id": "8dJ6PDVJK8QT"
      },
      "outputs": [],
      "source": [
        "# Librería para manipular datasets\n",
        "import pandas as pd\n",
        "\n",
        "# Módulo para manipular paths\n",
        "from pathlib import Path\n",
        "\n",
        "# Librería identificar el encoding de los archivos \n",
        "import chardet\n",
        "\n",
        "# Módulo para anipular expresiones regulares \n",
        "import re"
      ]
    },
    {
      "cell_type": "markdown",
      "metadata": {
        "id": "DEpU2L1UM3yj"
      },
      "source": [
        "# **EXTRACCIÓN**\n",
        "\n",
        "Los archivos tienen diversos formatos y argumentos de importación. Para automatizarlo, creamos una función que considere todas estas consideraciones para instanciarlo con el path de cada file. "
      ]
    },
    {
      "cell_type": "code",
      "execution_count": 8,
      "metadata": {
        "id": "Ioqkk3FgKt1_"
      },
      "outputs": [],
      "source": [
        "def importar(path):\n",
        "    with open(path, 'rb') as f:\n",
        "        result = chardet.detect(f.read())\n",
        "        # Para importar archivos csv\n",
        "        if Path(path).suffix == \".csv\": \n",
        "            data = pd.read_csv(path, encoding=result['encoding'], sep=None, engine='python', decimal='.')\n",
        "        # Para importar archivos parquet\n",
        "        elif Path(path).suffix == \".parquet\": \n",
        "            data = pd.read_parquet(path, engine='pyarrow')\n",
        "        # Para importar archivos json\n",
        "        elif Path(path).suffix == \".json\": \n",
        "            data = pd.read_json(path, precise_float=True)\n",
        "        # Para importar archivos txt\n",
        "        elif Path(path).suffix == \".txt\": \n",
        "            data = pd.read_table(path, sep='|', engine='python')\n",
        "            \n",
        "    return data "
      ]
    },
    {
      "cell_type": "code",
      "execution_count": 25,
      "metadata": {
        "id": "-BCae2OPkreK"
      },
      "outputs": [],
      "source": [
        "# Función para importar un excel con más de una pestaña\n",
        "def importar_excel(path, sheet): \n",
        "  # Importamos solo una pestaña del file\n",
        "  data = pd.read_excel(path,sheet_name=sheet)\n",
        "  return data"
      ]
    },
    {
      "cell_type": "markdown",
      "metadata": {
        "id": "WOnOHny9pMC4"
      },
      "source": [
        "Aplicamos las funciones para importar todos los datasets"
      ]
    },
    {
      "cell_type": "code",
      "execution_count": 21,
      "metadata": {
        "id": "N1nYrvQZLvYq",
        "tags": [
          "parameters"
        ]
      },
      "outputs": [],
      "source": [
        "# Archivo csv\n",
        "sucursal_or = importar(r'C:\\Users\\USER\\Documents\\SOYHENRY\\LABS\\Repositorio\\Datasets\\1 sucursal.csv')\n",
        "# Archivo parquet\n",
        "producto_or = importar(r'C:\\Users\\USER\\Documents\\SOYHENRY\\LABS\\Repositorio\\Datasets\\2 producto.parquet')\n",
        "# Archivo csv\n",
        "precios_semana_20200413_or = importar(r'C:\\Users\\USER\\Documents\\SOYHENRY\\LABS\\Repositorio\\Datasets\\3 precios_semana_20200413.csv')   \n",
        "# Archivo xlsx\n",
        "precios_semanas_20200419_or = importar_excel(r'C:\\Users\\USER\\Documents\\SOYHENRY\\LABS\\Repositorio\\Datasets\\4 precios_semanas_20200419_20200426.xlsx', 'precios_20200426_20200426').copy()\n",
        "# Archivo json\n",
        "precios_semana_20200503_or = importar(r'C:\\Users\\USER\\Documents\\SOYHENRY\\LABS\\Repositorio\\Datasets\\5 precios_semana_20200503.json')\n",
        "# Archivo txt\n",
        "precios_semana_20200518_or = importar(r'C:\\Users\\USER\\Documents\\SOYHENRY\\LABS\\Repositorio\\Datasets\\6 precios_semana_20200518.txt')"
      ]
    },
    {
      "cell_type": "markdown",
      "metadata": {
        "id": "7V6OoIVL_bOg"
      },
      "source": [
        "**Nota**: Solo importamos la tabla de de la semana 20200426, debido a que la semana 20200419 no es representativa, queda pendiente consultar con el cliente para acordar el criterio correcto. "
      ]
    },
    {
      "cell_type": "markdown",
      "metadata": {
        "id": "fobYXIhR7Cne"
      },
      "source": [
        "Copiamos el dataset para evitar modificar los originales"
      ]
    },
    {
      "cell_type": "code",
      "execution_count": 351,
      "metadata": {
        "id": "I15TZ09H6-hh"
      },
      "outputs": [],
      "source": [
        "# Archivo csv\n",
        "sucursales = sucursal_or.copy()\n",
        "# Archivo parquet\n",
        "productos = producto_or.copy()\n",
        "# Archivo csv\n",
        "precios_20200413 = precios_semana_20200413_or.copy()\n",
        "# Archivo xlsx\n",
        "precios_20200426 = precios_semanas_20200419_or.copy()\n",
        "# Archivo json\n",
        "precios_20200503 = precios_semana_20200503_or.copy()\n",
        "# Archivo txt\n",
        "precios_20200518 = precios_semana_20200503_or.copy()"
      ]
    },
    {
      "cell_type": "markdown",
      "metadata": {
        "id": "FU_YIY1GqBb4"
      },
      "source": [
        "# **TRANSFORMACIÓN**\n",
        "\n",
        "Analizamos cada uno de los datase para detectar que los datos sean reprsentativos "
      ]
    },
    {
      "cell_type": "markdown",
      "metadata": {
        "id": "Cr5SMD7b_QHH"
      },
      "source": [
        "**SUCURSALES**"
      ]
    },
    {
      "cell_type": "code",
      "execution_count": 352,
      "metadata": {
        "colab": {
          "base_uri": "https://localhost:8080/",
          "height": 206
        },
        "id": "JDpBU161peNG",
        "outputId": "6f981ae3-1f90-4a5e-d41b-9acf1cbb15c7"
      },
      "outputs": [
        {
          "data": {
            "text/html": [
              "<div>\n",
              "<style scoped>\n",
              "    .dataframe tbody tr th:only-of-type {\n",
              "        vertical-align: middle;\n",
              "    }\n",
              "\n",
              "    .dataframe tbody tr th {\n",
              "        vertical-align: top;\n",
              "    }\n",
              "\n",
              "    .dataframe thead th {\n",
              "        text-align: right;\n",
              "    }\n",
              "</style>\n",
              "<table border=\"1\" class=\"dataframe\">\n",
              "  <thead>\n",
              "    <tr style=\"text-align: right;\">\n",
              "      <th></th>\n",
              "      <th>id</th>\n",
              "      <th>comercioId</th>\n",
              "      <th>banderaId</th>\n",
              "      <th>banderaDescripcion</th>\n",
              "      <th>comercioRazonSocial</th>\n",
              "      <th>provincia</th>\n",
              "      <th>localidad</th>\n",
              "      <th>direccion</th>\n",
              "      <th>lat</th>\n",
              "      <th>lng</th>\n",
              "      <th>sucursalNombre</th>\n",
              "      <th>sucursalTipo</th>\n",
              "    </tr>\n",
              "  </thead>\n",
              "  <tbody>\n",
              "    <tr>\n",
              "      <th>0</th>\n",
              "      <td>1-1-7</td>\n",
              "      <td>1</td>\n",
              "      <td>1</td>\n",
              "      <td>Super MAMI</td>\n",
              "      <td>Dinosaurio S.A.</td>\n",
              "      <td>AR-X</td>\n",
              "      <td>SALSIPUEDES</td>\n",
              "      <td>E53 1011 None</td>\n",
              "      <td>-31.126667</td>\n",
              "      <td>-64.295250</td>\n",
              "      <td>Super Mami 4</td>\n",
              "      <td>Hipermercado</td>\n",
              "    </tr>\n",
              "    <tr>\n",
              "      <th>1</th>\n",
              "      <td>10-1-1</td>\n",
              "      <td>10</td>\n",
              "      <td>1</td>\n",
              "      <td>Hipermercado Carrefour</td>\n",
              "      <td>INC S.A.</td>\n",
              "      <td>AR-B</td>\n",
              "      <td>San Isidro</td>\n",
              "      <td>Bernardo De Irigoyen 2647</td>\n",
              "      <td>-34.491345</td>\n",
              "      <td>-58.589025</td>\n",
              "      <td>San Isidro</td>\n",
              "      <td>Hipermercado</td>\n",
              "    </tr>\n",
              "    <tr>\n",
              "      <th>2</th>\n",
              "      <td>10-1-10</td>\n",
              "      <td>10</td>\n",
              "      <td>1</td>\n",
              "      <td>Hipermercado Carrefour</td>\n",
              "      <td>INC S.A.</td>\n",
              "      <td>AR-B</td>\n",
              "      <td>Hurlingham</td>\n",
              "      <td>Av. Vergara 1910</td>\n",
              "      <td>-34.620610</td>\n",
              "      <td>-58.633769</td>\n",
              "      <td>Villa Tesei</td>\n",
              "      <td>Hipermercado</td>\n",
              "    </tr>\n",
              "    <tr>\n",
              "      <th>3</th>\n",
              "      <td>10-1-11</td>\n",
              "      <td>10</td>\n",
              "      <td>1</td>\n",
              "      <td>Hipermercado Carrefour</td>\n",
              "      <td>INC S.A.</td>\n",
              "      <td>AR-B</td>\n",
              "      <td>Malvinas Argentinas</td>\n",
              "      <td>Av. Arturo Illia 3770</td>\n",
              "      <td>-34.528883</td>\n",
              "      <td>-58.701631</td>\n",
              "      <td>Malvinas Argentinas</td>\n",
              "      <td>Hipermercado</td>\n",
              "    </tr>\n",
              "    <tr>\n",
              "      <th>4</th>\n",
              "      <td>10-1-112</td>\n",
              "      <td>10</td>\n",
              "      <td>1</td>\n",
              "      <td>Hipermercado Carrefour</td>\n",
              "      <td>INC S.A.</td>\n",
              "      <td>AR-A</td>\n",
              "      <td>Salta</td>\n",
              "      <td>20 De Febrero 37</td>\n",
              "      <td>-24.789072</td>\n",
              "      <td>-65.413699</td>\n",
              "      <td>Salta</td>\n",
              "      <td>Hipermercado</td>\n",
              "    </tr>\n",
              "  </tbody>\n",
              "</table>\n",
              "</div>"
            ],
            "text/plain": [
              "         id  comercioId  banderaId      banderaDescripcion  \\\n",
              "0     1-1-7           1          1              Super MAMI   \n",
              "1    10-1-1          10          1  Hipermercado Carrefour   \n",
              "2   10-1-10          10          1  Hipermercado Carrefour   \n",
              "3   10-1-11          10          1  Hipermercado Carrefour   \n",
              "4  10-1-112          10          1  Hipermercado Carrefour   \n",
              "\n",
              "  comercioRazonSocial provincia            localidad  \\\n",
              "0     Dinosaurio S.A.      AR-X          SALSIPUEDES   \n",
              "1            INC S.A.      AR-B           San Isidro   \n",
              "2            INC S.A.      AR-B           Hurlingham   \n",
              "3            INC S.A.      AR-B  Malvinas Argentinas   \n",
              "4            INC S.A.      AR-A                Salta   \n",
              "\n",
              "                   direccion        lat        lng       sucursalNombre  \\\n",
              "0              E53 1011 None -31.126667 -64.295250         Super Mami 4   \n",
              "1  Bernardo De Irigoyen 2647 -34.491345 -58.589025           San Isidro   \n",
              "2           Av. Vergara 1910 -34.620610 -58.633769          Villa Tesei   \n",
              "3      Av. Arturo Illia 3770 -34.528883 -58.701631  Malvinas Argentinas   \n",
              "4           20 De Febrero 37 -24.789072 -65.413699                Salta   \n",
              "\n",
              "   sucursalTipo  \n",
              "0  Hipermercado  \n",
              "1  Hipermercado  \n",
              "2  Hipermercado  \n",
              "3  Hipermercado  \n",
              "4  Hipermercado  "
            ]
          },
          "execution_count": 352,
          "metadata": {},
          "output_type": "execute_result"
        }
      ],
      "source": [
        "# Visualizamos los datos\n",
        "sucursales.head()"
      ]
    },
    {
      "cell_type": "code",
      "execution_count": 353,
      "metadata": {},
      "outputs": [],
      "source": [
        "# Utilizo punto y coma para evitar que me imprima el output\n",
        "sucursales.rename(columns={'id':'sucursal_id', 'comercioId':'comercio_id', 'banderaId': 'bandera_id' }, inplace = True);"
      ]
    },
    {
      "cell_type": "code",
      "execution_count": 354,
      "metadata": {},
      "outputs": [],
      "source": [
        "# Eliminamos datos duplicados\n",
        "sucursales.drop_duplicates();"
      ]
    },
    {
      "cell_type": "code",
      "execution_count": 355,
      "metadata": {},
      "outputs": [
        {
          "data": {
            "text/html": [
              "<div>\n",
              "<style scoped>\n",
              "    .dataframe tbody tr th:only-of-type {\n",
              "        vertical-align: middle;\n",
              "    }\n",
              "\n",
              "    .dataframe tbody tr th {\n",
              "        vertical-align: top;\n",
              "    }\n",
              "\n",
              "    .dataframe thead th {\n",
              "        text-align: right;\n",
              "    }\n",
              "</style>\n",
              "<table border=\"1\" class=\"dataframe\">\n",
              "  <thead>\n",
              "    <tr style=\"text-align: right;\">\n",
              "      <th></th>\n",
              "      <th>sucursal_id</th>\n",
              "      <th>comercio_id</th>\n",
              "      <th>bandera_id</th>\n",
              "      <th>banderaDescripcion</th>\n",
              "      <th>comercioRazonSocial</th>\n",
              "      <th>provincia</th>\n",
              "      <th>localidad</th>\n",
              "      <th>direccion</th>\n",
              "      <th>lat</th>\n",
              "      <th>lng</th>\n",
              "      <th>sucursalNombre</th>\n",
              "      <th>sucursalTipo</th>\n",
              "    </tr>\n",
              "  </thead>\n",
              "  <tbody>\n",
              "    <tr>\n",
              "      <th>0</th>\n",
              "      <td>1-1-7</td>\n",
              "      <td>1</td>\n",
              "      <td>1</td>\n",
              "      <td>Super MAMI</td>\n",
              "      <td>Dinosaurio S.A.</td>\n",
              "      <td>AR-X</td>\n",
              "      <td>SALSIPUEDES</td>\n",
              "      <td>E53 1011 None</td>\n",
              "      <td>-31.126667</td>\n",
              "      <td>-64.295250</td>\n",
              "      <td>Super Mami 4</td>\n",
              "      <td>Hipermercado</td>\n",
              "    </tr>\n",
              "    <tr>\n",
              "      <th>1</th>\n",
              "      <td>10-1-1</td>\n",
              "      <td>10</td>\n",
              "      <td>1</td>\n",
              "      <td>Hipermercado Carrefour</td>\n",
              "      <td>INC S.A.</td>\n",
              "      <td>AR-B</td>\n",
              "      <td>San Isidro</td>\n",
              "      <td>Bernardo De Irigoyen 2647</td>\n",
              "      <td>-34.491345</td>\n",
              "      <td>-58.589025</td>\n",
              "      <td>San Isidro</td>\n",
              "      <td>Hipermercado</td>\n",
              "    </tr>\n",
              "    <tr>\n",
              "      <th>2</th>\n",
              "      <td>10-1-10</td>\n",
              "      <td>10</td>\n",
              "      <td>1</td>\n",
              "      <td>Hipermercado Carrefour</td>\n",
              "      <td>INC S.A.</td>\n",
              "      <td>AR-B</td>\n",
              "      <td>Hurlingham</td>\n",
              "      <td>Av. Vergara 1910</td>\n",
              "      <td>-34.620610</td>\n",
              "      <td>-58.633769</td>\n",
              "      <td>Villa Tesei</td>\n",
              "      <td>Hipermercado</td>\n",
              "    </tr>\n",
              "    <tr>\n",
              "      <th>3</th>\n",
              "      <td>10-1-11</td>\n",
              "      <td>10</td>\n",
              "      <td>1</td>\n",
              "      <td>Hipermercado Carrefour</td>\n",
              "      <td>INC S.A.</td>\n",
              "      <td>AR-B</td>\n",
              "      <td>Malvinas Argentinas</td>\n",
              "      <td>Av. Arturo Illia 3770</td>\n",
              "      <td>-34.528883</td>\n",
              "      <td>-58.701631</td>\n",
              "      <td>Malvinas Argentinas</td>\n",
              "      <td>Hipermercado</td>\n",
              "    </tr>\n",
              "    <tr>\n",
              "      <th>4</th>\n",
              "      <td>10-1-112</td>\n",
              "      <td>10</td>\n",
              "      <td>1</td>\n",
              "      <td>Hipermercado Carrefour</td>\n",
              "      <td>INC S.A.</td>\n",
              "      <td>AR-A</td>\n",
              "      <td>Salta</td>\n",
              "      <td>20 De Febrero 37</td>\n",
              "      <td>-24.789072</td>\n",
              "      <td>-65.413699</td>\n",
              "      <td>Salta</td>\n",
              "      <td>Hipermercado</td>\n",
              "    </tr>\n",
              "  </tbody>\n",
              "</table>\n",
              "</div>"
            ],
            "text/plain": [
              "  sucursal_id  comercio_id  bandera_id      banderaDescripcion  \\\n",
              "0       1-1-7            1           1              Super MAMI   \n",
              "1      10-1-1           10           1  Hipermercado Carrefour   \n",
              "2     10-1-10           10           1  Hipermercado Carrefour   \n",
              "3     10-1-11           10           1  Hipermercado Carrefour   \n",
              "4    10-1-112           10           1  Hipermercado Carrefour   \n",
              "\n",
              "  comercioRazonSocial provincia            localidad  \\\n",
              "0     Dinosaurio S.A.      AR-X          SALSIPUEDES   \n",
              "1            INC S.A.      AR-B           San Isidro   \n",
              "2            INC S.A.      AR-B           Hurlingham   \n",
              "3            INC S.A.      AR-B  Malvinas Argentinas   \n",
              "4            INC S.A.      AR-A                Salta   \n",
              "\n",
              "                   direccion        lat        lng       sucursalNombre  \\\n",
              "0              E53 1011 None -31.126667 -64.295250         Super Mami 4   \n",
              "1  Bernardo De Irigoyen 2647 -34.491345 -58.589025           San Isidro   \n",
              "2           Av. Vergara 1910 -34.620610 -58.633769          Villa Tesei   \n",
              "3      Av. Arturo Illia 3770 -34.528883 -58.701631  Malvinas Argentinas   \n",
              "4           20 De Febrero 37 -24.789072 -65.413699                Salta   \n",
              "\n",
              "   sucursalTipo  \n",
              "0  Hipermercado  \n",
              "1  Hipermercado  \n",
              "2  Hipermercado  \n",
              "3  Hipermercado  \n",
              "4  Hipermercado  "
            ]
          },
          "execution_count": 355,
          "metadata": {},
          "output_type": "execute_result"
        }
      ],
      "source": [
        "# Visualizamos los datos\n",
        "sucursales.head()"
      ]
    },
    {
      "cell_type": "code",
      "execution_count": 356,
      "metadata": {},
      "outputs": [
        {
          "name": "stdout",
          "output_type": "stream",
          "text": [
            "<class 'pandas.core.frame.DataFrame'>\n",
            "RangeIndex: 2333 entries, 0 to 2332\n",
            "Data columns (total 12 columns):\n",
            " #   Column               Non-Null Count  Dtype  \n",
            "---  ------               --------------  -----  \n",
            " 0   sucursal_id          2333 non-null   object \n",
            " 1   comercio_id          2333 non-null   int64  \n",
            " 2   bandera_id           2333 non-null   int64  \n",
            " 3   banderaDescripcion   2333 non-null   object \n",
            " 4   comercioRazonSocial  2333 non-null   object \n",
            " 5   provincia            2333 non-null   object \n",
            " 6   localidad            2333 non-null   object \n",
            " 7   direccion            2333 non-null   object \n",
            " 8   lat                  2333 non-null   float64\n",
            " 9   lng                  2333 non-null   float64\n",
            " 10  sucursalNombre       2333 non-null   object \n",
            " 11  sucursalTipo         2333 non-null   object \n",
            "dtypes: float64(2), int64(2), object(8)\n",
            "memory usage: 218.8+ KB\n"
          ]
        }
      ],
      "source": [
        "sucursales.info()"
      ]
    },
    {
      "cell_type": "markdown",
      "metadata": {
        "id": "rapN9zi-HUGL"
      },
      "source": [
        "**PRODUCTOS**"
      ]
    },
    {
      "cell_type": "code",
      "execution_count": 357,
      "metadata": {},
      "outputs": [
        {
          "data": {
            "text/html": [
              "<div>\n",
              "<style scoped>\n",
              "    .dataframe tbody tr th:only-of-type {\n",
              "        vertical-align: middle;\n",
              "    }\n",
              "\n",
              "    .dataframe tbody tr th {\n",
              "        vertical-align: top;\n",
              "    }\n",
              "\n",
              "    .dataframe thead th {\n",
              "        text-align: right;\n",
              "    }\n",
              "</style>\n",
              "<table border=\"1\" class=\"dataframe\">\n",
              "  <thead>\n",
              "    <tr style=\"text-align: right;\">\n",
              "      <th></th>\n",
              "      <th>id</th>\n",
              "      <th>marca</th>\n",
              "      <th>nombre</th>\n",
              "      <th>presentacion</th>\n",
              "      <th>categoria1</th>\n",
              "      <th>categoria2</th>\n",
              "      <th>categoria3</th>\n",
              "    </tr>\n",
              "  </thead>\n",
              "  <tbody>\n",
              "    <tr>\n",
              "      <th>0</th>\n",
              "      <td>0000000001663</td>\n",
              "      <td>LA ANÓNIMA</td>\n",
              "      <td>Radicheta Atada La Anonima 1 Un</td>\n",
              "      <td>1.0 un</td>\n",
              "      <td>None</td>\n",
              "      <td>None</td>\n",
              "      <td>None</td>\n",
              "    </tr>\n",
              "    <tr>\n",
              "      <th>1</th>\n",
              "      <td>0000000002288</td>\n",
              "      <td>LA ANÓNIMA</td>\n",
              "      <td>Perejil Atado La Anonima 1 Un</td>\n",
              "      <td>1.0 un</td>\n",
              "      <td>None</td>\n",
              "      <td>None</td>\n",
              "      <td>None</td>\n",
              "    </tr>\n",
              "    <tr>\n",
              "      <th>2</th>\n",
              "      <td>0000000205870</td>\n",
              "      <td>SIN MARCA</td>\n",
              "      <td>Ojo de Bife 1 Kg</td>\n",
              "      <td>1.0 kg</td>\n",
              "      <td>None</td>\n",
              "      <td>None</td>\n",
              "      <td>None</td>\n",
              "    </tr>\n",
              "    <tr>\n",
              "      <th>3</th>\n",
              "      <td>0000000205894</td>\n",
              "      <td>SIN MARCA</td>\n",
              "      <td>Milanesa de Peceto Novillito 1 Kg</td>\n",
              "      <td>1.0 kg</td>\n",
              "      <td>None</td>\n",
              "      <td>None</td>\n",
              "      <td>None</td>\n",
              "    </tr>\n",
              "    <tr>\n",
              "      <th>4</th>\n",
              "      <td>0000000205955</td>\n",
              "      <td>SIN MARCA</td>\n",
              "      <td>Chiquizuela Novillito 1 Kg</td>\n",
              "      <td>1.0 kg</td>\n",
              "      <td>None</td>\n",
              "      <td>None</td>\n",
              "      <td>None</td>\n",
              "    </tr>\n",
              "  </tbody>\n",
              "</table>\n",
              "</div>"
            ],
            "text/plain": [
              "              id       marca                             nombre presentacion  \\\n",
              "0  0000000001663  LA ANÓNIMA    Radicheta Atada La Anonima 1 Un       1.0 un   \n",
              "1  0000000002288  LA ANÓNIMA      Perejil Atado La Anonima 1 Un       1.0 un   \n",
              "2  0000000205870   SIN MARCA                   Ojo de Bife 1 Kg       1.0 kg   \n",
              "3  0000000205894   SIN MARCA  Milanesa de Peceto Novillito 1 Kg       1.0 kg   \n",
              "4  0000000205955   SIN MARCA         Chiquizuela Novillito 1 Kg       1.0 kg   \n",
              "\n",
              "  categoria1 categoria2 categoria3  \n",
              "0       None       None       None  \n",
              "1       None       None       None  \n",
              "2       None       None       None  \n",
              "3       None       None       None  \n",
              "4       None       None       None  "
            ]
          },
          "execution_count": 357,
          "metadata": {},
          "output_type": "execute_result"
        }
      ],
      "source": [
        "productos.head()"
      ]
    },
    {
      "cell_type": "code",
      "execution_count": 358,
      "metadata": {},
      "outputs": [
        {
          "name": "stdout",
          "output_type": "stream",
          "text": [
            "<class 'pandas.core.frame.DataFrame'>\n",
            "RangeIndex: 72038 entries, 0 to 72037\n",
            "Data columns (total 7 columns):\n",
            " #   Column        Non-Null Count  Dtype \n",
            "---  ------        --------------  ----- \n",
            " 0   id            72038 non-null  object\n",
            " 1   marca         72036 non-null  object\n",
            " 2   nombre        72036 non-null  object\n",
            " 3   presentacion  72036 non-null  object\n",
            " 4   categoria1    4 non-null      object\n",
            " 5   categoria2    4 non-null      object\n",
            " 6   categoria3    4 non-null      object\n",
            "dtypes: object(7)\n",
            "memory usage: 3.8+ MB\n"
          ]
        }
      ],
      "source": [
        "productos.info()"
      ]
    },
    {
      "cell_type": "markdown",
      "metadata": {},
      "source": [
        "**Eliminar columnas categorias**\n",
        "\n",
        "Nota: En la tabla de productos hay tres categorías que no son representativos de los datos, los eliminamos e informamos al cliente para que tome un criterio en la futuras fuentes de datos. "
      ]
    },
    {
      "cell_type": "code",
      "execution_count": 359,
      "metadata": {
        "colab": {
          "base_uri": "https://localhost:8080/"
        },
        "id": "XxX3Er3iIlxX",
        "outputId": "197ae282-43b3-48bb-b27d-612fc28ef05d"
      },
      "outputs": [
        {
          "name": "stdout",
          "output_type": "stream",
          "text": [
            "*****INFORME DE SITUACIÓN DE COLUMNAS CATEGORIES*********\n",
            "Columna \"categoria1\"\n",
            "Datos nulos: 72034 \n",
            "Datos únicos: [None 'Perfumería y Cuidado Personal' 'Almacén' 'Alimentos Congelados']\n",
            "\n",
            "Columna \"categoria2\"\n",
            "Datos nulos: 72034 \n",
            "Datos únicos: [None 'Cuidado Capilar' 'Aceites' 'Helados']\n",
            "\n",
            "Columna \"categoria3\"\n",
            "Datos nulos: 72034 \n",
            "Datos únicos: [None 'Acondicionadores' 'Aerosol' 'Oliva' 'Helados']\n"
          ]
        }
      ],
      "source": [
        "# INFORME DE SITUACIÓN DE COLUMNAS CATEGORIES\n",
        "print('*****INFORME DE SITUACIÓN DE COLUMNAS CATEGORIES*********')\n",
        "print('Columna \"categoria1\"')\n",
        "print('Datos nulos: {} '.format(len(productos[productos['categoria1'].isnull()])))\n",
        "print('Datos únicos: {}'.format(pd.unique(productos['categoria1'])))\n",
        "\n",
        "print('\\n''Columna \"categoria2\"')\n",
        "print('Datos nulos: {} '.format(len(productos[productos['categoria2'].isnull()])))\n",
        "print('Datos únicos: {}'.format(pd.unique(productos['categoria2'])))\n",
        "\n",
        "print('\\n''Columna \"categoria3\"')\n",
        "print('Datos nulos: {} '.format(len(productos[productos['categoria3'].isnull()])))\n",
        "print('Datos únicos: {}'.format(pd.unique(productos['categoria3'])))"
      ]
    },
    {
      "cell_type": "code",
      "execution_count": 360,
      "metadata": {
        "id": "j9epkeQtI2jv"
      },
      "outputs": [],
      "source": [
        "productos = productos.drop(['categoria1', 'categoria2', 'categoria3'], axis=1)"
      ]
    },
    {
      "cell_type": "code",
      "execution_count": 361,
      "metadata": {},
      "outputs": [],
      "source": [
        "# Eliminamos datos duplicados, usamos ; para no imprimir el output\n",
        "productos.drop_duplicates();"
      ]
    },
    {
      "cell_type": "code",
      "execution_count": 362,
      "metadata": {},
      "outputs": [],
      "source": [
        "# Verificamos si existe algún dato catacter no numérico en las filas del dataset\n",
        "for i, row in enumerate(productos): \n",
        "    if r'/D' in row: \n",
        "        productos[i][row] = re.sub(r'\\D', \"\", row)\n",
        "        print(i, row)"
      ]
    },
    {
      "cell_type": "code",
      "execution_count": 363,
      "metadata": {},
      "outputs": [],
      "source": [
        "# renombramos las columnas id para mantener el mismo criterio\n",
        "productos.rename(columns={'id':'producto_id'}, inplace = True);"
      ]
    },
    {
      "cell_type": "code",
      "execution_count": 364,
      "metadata": {
        "colab": {
          "base_uri": "https://localhost:8080/"
        },
        "id": "KsIDQOMgpyAt",
        "outputId": "207c436d-7929-44f9-dcc1-4db7c0477c9b"
      },
      "outputs": [
        {
          "data": {
            "text/html": [
              "<div>\n",
              "<style scoped>\n",
              "    .dataframe tbody tr th:only-of-type {\n",
              "        vertical-align: middle;\n",
              "    }\n",
              "\n",
              "    .dataframe tbody tr th {\n",
              "        vertical-align: top;\n",
              "    }\n",
              "\n",
              "    .dataframe thead th {\n",
              "        text-align: right;\n",
              "    }\n",
              "</style>\n",
              "<table border=\"1\" class=\"dataframe\">\n",
              "  <thead>\n",
              "    <tr style=\"text-align: right;\">\n",
              "      <th></th>\n",
              "      <th>producto_id</th>\n",
              "      <th>marca</th>\n",
              "      <th>nombre</th>\n",
              "      <th>presentacion</th>\n",
              "    </tr>\n",
              "  </thead>\n",
              "  <tbody>\n",
              "    <tr>\n",
              "      <th>0</th>\n",
              "      <td>0000000001663</td>\n",
              "      <td>LA ANÓNIMA</td>\n",
              "      <td>Radicheta Atada La Anonima 1 Un</td>\n",
              "      <td>1.0 un</td>\n",
              "    </tr>\n",
              "    <tr>\n",
              "      <th>1</th>\n",
              "      <td>0000000002288</td>\n",
              "      <td>LA ANÓNIMA</td>\n",
              "      <td>Perejil Atado La Anonima 1 Un</td>\n",
              "      <td>1.0 un</td>\n",
              "    </tr>\n",
              "    <tr>\n",
              "      <th>2</th>\n",
              "      <td>0000000205870</td>\n",
              "      <td>SIN MARCA</td>\n",
              "      <td>Ojo de Bife 1 Kg</td>\n",
              "      <td>1.0 kg</td>\n",
              "    </tr>\n",
              "    <tr>\n",
              "      <th>3</th>\n",
              "      <td>0000000205894</td>\n",
              "      <td>SIN MARCA</td>\n",
              "      <td>Milanesa de Peceto Novillito 1 Kg</td>\n",
              "      <td>1.0 kg</td>\n",
              "    </tr>\n",
              "    <tr>\n",
              "      <th>4</th>\n",
              "      <td>0000000205955</td>\n",
              "      <td>SIN MARCA</td>\n",
              "      <td>Chiquizuela Novillito 1 Kg</td>\n",
              "      <td>1.0 kg</td>\n",
              "    </tr>\n",
              "  </tbody>\n",
              "</table>\n",
              "</div>"
            ],
            "text/plain": [
              "     producto_id       marca                             nombre presentacion\n",
              "0  0000000001663  LA ANÓNIMA    Radicheta Atada La Anonima 1 Un       1.0 un\n",
              "1  0000000002288  LA ANÓNIMA      Perejil Atado La Anonima 1 Un       1.0 un\n",
              "2  0000000205870   SIN MARCA                   Ojo de Bife 1 Kg       1.0 kg\n",
              "3  0000000205894   SIN MARCA  Milanesa de Peceto Novillito 1 Kg       1.0 kg\n",
              "4  0000000205955   SIN MARCA         Chiquizuela Novillito 1 Kg       1.0 kg"
            ]
          },
          "execution_count": 364,
          "metadata": {},
          "output_type": "execute_result"
        }
      ],
      "source": [
        "productos.head()"
      ]
    },
    {
      "cell_type": "markdown",
      "metadata": {
        "id": "65BuIt8sNanl"
      },
      "source": [
        "Existen dos datos nulos con id asignado, los eliminamos "
      ]
    },
    {
      "cell_type": "code",
      "execution_count": 365,
      "metadata": {
        "colab": {
          "base_uri": "https://localhost:8080/",
          "height": 112
        },
        "id": "tIUq1OkGH2F7",
        "outputId": "83133dce-e3a5-44f4-c145-016c2ccdece1"
      },
      "outputs": [
        {
          "data": {
            "text/html": [
              "<div>\n",
              "<style scoped>\n",
              "    .dataframe tbody tr th:only-of-type {\n",
              "        vertical-align: middle;\n",
              "    }\n",
              "\n",
              "    .dataframe tbody tr th {\n",
              "        vertical-align: top;\n",
              "    }\n",
              "\n",
              "    .dataframe thead th {\n",
              "        text-align: right;\n",
              "    }\n",
              "</style>\n",
              "<table border=\"1\" class=\"dataframe\">\n",
              "  <thead>\n",
              "    <tr style=\"text-align: right;\">\n",
              "      <th></th>\n",
              "      <th>producto_id</th>\n",
              "      <th>marca</th>\n",
              "      <th>nombre</th>\n",
              "      <th>presentacion</th>\n",
              "    </tr>\n",
              "  </thead>\n",
              "  <tbody>\n",
              "    <tr>\n",
              "      <th>53619</th>\n",
              "      <td>7798024299045</td>\n",
              "      <td>None</td>\n",
              "      <td>None</td>\n",
              "      <td>None</td>\n",
              "    </tr>\n",
              "    <tr>\n",
              "      <th>55798</th>\n",
              "      <td>7798061190213</td>\n",
              "      <td>None</td>\n",
              "      <td>None</td>\n",
              "      <td>None</td>\n",
              "    </tr>\n",
              "  </tbody>\n",
              "</table>\n",
              "</div>"
            ],
            "text/plain": [
              "         producto_id marca nombre presentacion\n",
              "53619  7798024299045  None   None         None\n",
              "55798  7798061190213  None   None         None"
            ]
          },
          "execution_count": 365,
          "metadata": {},
          "output_type": "execute_result"
        }
      ],
      "source": [
        "productos[productos['nombre'].isnull()]"
      ]
    },
    {
      "cell_type": "code",
      "execution_count": 366,
      "metadata": {
        "id": "W2k0azIdNfq8"
      },
      "outputs": [],
      "source": [
        "productos = productos.drop([53619, 55798], axis=0).reset_index()"
      ]
    },
    {
      "cell_type": "markdown",
      "metadata": {
        "id": "nDMMlS-S34IV"
      },
      "source": [
        "**PRECIOS**\n",
        "\n",
        "Hay varios dataset que representan la misma información, por tanto limpiaremos los datos y exportaremos solo un dataset con la concatenación de todos"
      ]
    },
    {
      "cell_type": "code",
      "execution_count": 367,
      "metadata": {
        "colab": {
          "base_uri": "https://localhost:8080/"
        },
        "id": "ZlGYIrzzN_iA",
        "outputId": "740aa8fb-817d-4ee5-c2c0-8c9ab9c3df44"
      },
      "outputs": [
        {
          "name": "stdout",
          "output_type": "stream",
          "text": [
            "\n",
            " precios_20200413\n",
            "    precio    producto_id sucursal_id\n",
            "0   29.90  0000000001663     2-1-014\n",
            "1   29.90  0000000002288     2-1-032\n",
            "2   39.90  0000000002288     2-1-096\n",
            "3  499.99  0000000205870     9-1-686\n",
            "4  519.99  0000000205870     9-2-248\n",
            "\n",
            " precios_20200426\n",
            "     precio sucursal_id  producto_id\n",
            "0    399.0     2-1-092       2288.0\n",
            "1    299.0     2-1-206       2288.0\n",
            "2    399.0     2-2-241       2288.0\n",
            "3  49999.0     9-1-430     205870.0\n",
            "4  53999.0       9-2-4     205870.0\n",
            "\n",
            " precios_20200503\n",
            "    precio    producto_id sucursal_id\n",
            "0    29.9  0000000002288     2-1-187\n",
            "1    39.9  0000000002288     2-3-247\n",
            "2  499.99  0000000205870     9-1-685\n",
            "3  539.99  0000000205870      9-2-22\n",
            "4  519.99  0000000205870      9-2-59\n",
            "\n",
            " precios_20200518\n",
            "    precio    producto_id sucursal_id\n",
            "0    29.9  0000000002288     2-1-187\n",
            "1    39.9  0000000002288     2-3-247\n",
            "2  499.99  0000000205870     9-1-685\n",
            "3  539.99  0000000205870      9-2-22\n",
            "4  519.99  0000000205870      9-2-59\n"
          ]
        }
      ],
      "source": [
        "print('\\n','precios_20200413''\\n', precios_20200413.head())\n",
        "print('\\n','precios_20200426''\\n', precios_20200426.head())\n",
        "print('\\n','precios_20200503''\\n', precios_20200503.head())\n",
        "print('\\n','precios_20200518''\\n', precios_20200518.head())"
      ]
    },
    {
      "cell_type": "markdown",
      "metadata": {
        "id": "cNhLdUycOkIQ"
      },
      "source": [
        "La tabla de preccios precios_20200426 tiene un orden de columnas diferentes, por tanto la colocamos en la misma posición que el resto de los datasets"
      ]
    },
    {
      "cell_type": "markdown",
      "metadata": {},
      "source": [
        "**Analizamos los datos nulos**\n",
        "\n",
        "**Nota**: en el dataset precios hay tres columnas: precio, sucursal_id y producto_id, si alguno de estos datos falta entonces la infomación de la fila no tienen utilidad, bajo este criterio eliminamos las filas con al menos un dato nulo. "
      ]
    },
    {
      "cell_type": "code",
      "execution_count": 368,
      "metadata": {},
      "outputs": [
        {
          "name": "stdout",
          "output_type": "stream",
          "text": [
            "REPORTE DE PORCENTAJE DE DATOS NULOS EN LAS TABLAS DE PRECIOS\n",
            "precios_20200413 = 0.0032 %\n",
            "precios_20200426 = 2.8229 %\n",
            "precios_20200503 = 0.0 %\n",
            "precios_20200518 = 2.7259 %\n"
          ]
        },
        {
          "name": "stderr",
          "output_type": "stream",
          "text": [
            "C:\\Users\\USER\\AppData\\Local\\Temp\\ipykernel_37936\\2949426603.py:5: UserWarning: Boolean Series key will be reindexed to match DataFrame index.\n",
            "  print('precios_20200518 =', round((len(precios_20200518[precios_20200426['producto_id'].isnull()]) / len(precios_20200518['producto_id']))*100,4), '%')\n"
          ]
        }
      ],
      "source": [
        "print('REPORTE DE PORCENTAJE DE DATOS NULOS EN LAS TABLAS DE PRECIOS')\n",
        "print('precios_20200413 =', round((len(precios_20200413[precios_20200413['producto_id'].isnull()]) / len(precios_20200413['producto_id']))*100,4), '%')\n",
        "print('precios_20200426 =', round((len(precios_20200426[precios_20200426['producto_id'].isnull()]) / len(precios_20200426['producto_id']))*100,4), '%')\n",
        "print('precios_20200503 =', round((len(precios_20200503[precios_20200503['producto_id'].isnull()]) / len(precios_20200503['producto_id']))*100,4), '%')\n",
        "print('precios_20200518 =', round((len(precios_20200518[precios_20200426['producto_id'].isnull()]) / len(precios_20200518['producto_id']))*100,4), '%')"
      ]
    },
    {
      "cell_type": "code",
      "execution_count": 369,
      "metadata": {},
      "outputs": [],
      "source": [
        "# eliminamos los datos nulos\n",
        "precios_20200413.dropna(how='any', inplace=True)\n",
        "precios_20200426.dropna(how='any', inplace=True)\n",
        "precios_20200503.dropna(how='any', inplace=True)\n",
        "precios_20200518.dropna(how='any', inplace=True)"
      ]
    },
    {
      "cell_type": "code",
      "execution_count": 370,
      "metadata": {},
      "outputs": [],
      "source": [
        "# eliminamos datos duplicados\n",
        "precios_20200413.drop_duplicates()\n",
        "precios_20200426.drop_duplicates()\n",
        "precios_20200503.drop_duplicates()\n",
        "precios_20200518.drop_duplicates();"
      ]
    },
    {
      "cell_type": "code",
      "execution_count": 371,
      "metadata": {},
      "outputs": [],
      "source": [
        "# Eliminamos espacios vacíos\n",
        "def eliminar_vacios(dataset): \n",
        "    columnas = dataset.columns.to_list()\n",
        "\n",
        "    for columna in columnas: \n",
        "        for i, row in enumerate(dataset):\n",
        "            if row == str: \n",
        "                dataset[columna] = dataset[columna].strip()\n",
        "            if row == '': \n",
        "                dataset = dataset.drop(axis=0, inplace=True)\n",
        "    return dataset\n"
      ]
    },
    {
      "cell_type": "code",
      "execution_count": 372,
      "metadata": {},
      "outputs": [],
      "source": [
        "eliminar_vacios(precios_20200413)\n",
        "eliminar_vacios(precios_20200426)\n",
        "eliminar_vacios(precios_20200503)\n",
        "eliminar_vacios(precios_20200518);"
      ]
    },
    {
      "cell_type": "code",
      "execution_count": 373,
      "metadata": {
        "id": "SQdiN3HVO99a"
      },
      "outputs": [],
      "source": [
        "def reorderar_columnas(dataset): \n",
        "  # Extraemos todas las columnas del dataset\n",
        "  columnas = dataset.columns.to_list()\n",
        "  for columna in columnas: \n",
        "    # Eliminamos cada columna\n",
        "    sucursal_id = dataset.pop('sucursal_id') \n",
        "    producto_id = dataset.pop('producto_id') \n",
        "    precio =  dataset.pop('precio') \n",
        "    # Las insertamos nuevamente en el orden indicado\n",
        "    dataset.insert(0, 'sucursal_id', sucursal_id) \n",
        "    dataset.insert(1, 'producto_id', producto_id)\n",
        "    dataset.insert(2, 'precio', precio)\n",
        "  \n",
        "  return dataset\n"
      ]
    },
    {
      "cell_type": "code",
      "execution_count": 374,
      "metadata": {
        "id": "mtKcOXE6QrBg"
      },
      "outputs": [],
      "source": [
        "# Instanciamos la función en todos los datasets\n",
        "reorderar_columnas(precios_20200413)\n",
        "reorderar_columnas(precios_20200426)\n",
        "reorderar_columnas(precios_20200503)\n",
        "reorderar_columnas(precios_20200518);"
      ]
    },
    {
      "cell_type": "code",
      "execution_count": 375,
      "metadata": {},
      "outputs": [
        {
          "data": {
            "text/plain": [
              "183693        0\n",
              "183186        0\n",
              "183694        0\n",
              "183952        0\n",
              "183951        0\n",
              "          ...  \n",
              "22045     30528\n",
              "22337     31000\n",
              "30972     32469\n",
              "22336     32860\n",
              "30971     34417\n",
              "Name: precio, Length: 472151, dtype: int32"
            ]
          },
          "execution_count": 375,
          "metadata": {},
          "output_type": "execute_result"
        }
      ],
      "source": [
        "precios_20200413['precio'].sort_values().astype(int)"
      ]
    },
    {
      "cell_type": "code",
      "execution_count": 376,
      "metadata": {},
      "outputs": [
        {
          "data": {
            "text/plain": [
              "0           399\n",
              "1           299\n",
              "2           399\n",
              "3         49999\n",
              "4         53999\n",
              "          ...  \n",
              "478904    13999\n",
              "478905     3499\n",
              "478906     3125\n",
              "478907     3125\n",
              "478908     1989\n",
              "Name: precio, Length: 463753, dtype: int32"
            ]
          },
          "execution_count": 376,
          "metadata": {},
          "output_type": "execute_result"
        }
      ],
      "source": [
        "precios_20200426['precio'].astype(int)"
      ]
    },
    {
      "cell_type": "code",
      "execution_count": 377,
      "metadata": {},
      "outputs": [],
      "source": [
        "for i, row in enumerate(precios_20200503['precio']): \n",
        "    if row == '': \n",
        "        precios_20200503 =  precios_20200503.drop(i, axis=0)"
      ]
    },
    {
      "cell_type": "code",
      "execution_count": null,
      "metadata": {},
      "outputs": [
        {
          "ename": "ValueError",
          "evalue": "cannot insert level_0, already exists",
          "output_type": "error",
          "traceback": [
            "\u001b[1;31m---------------------------------------------------------------------------\u001b[0m",
            "\u001b[1;31mValueError\u001b[0m                                Traceback (most recent call last)",
            "Cell \u001b[1;32mIn [350], line 1\u001b[0m\n\u001b[1;32m----> 1\u001b[0m precios_20200503\u001b[39m.\u001b[39mreset_index()\n",
            "File \u001b[1;32m~\\AppData\\Local\\Packages\\PythonSoftwareFoundation.Python.3.8_qbz5n2kfra8p0\\LocalCache\\local-packages\\Python38\\site-packages\\pandas\\util\\_decorators.py:311\u001b[0m, in \u001b[0;36mdeprecate_nonkeyword_arguments.<locals>.decorate.<locals>.wrapper\u001b[1;34m(*args, **kwargs)\u001b[0m\n\u001b[0;32m    305\u001b[0m \u001b[39mif\u001b[39;00m \u001b[39mlen\u001b[39m(args) \u001b[39m>\u001b[39m num_allow_args:\n\u001b[0;32m    306\u001b[0m     warnings\u001b[39m.\u001b[39mwarn(\n\u001b[0;32m    307\u001b[0m         msg\u001b[39m.\u001b[39mformat(arguments\u001b[39m=\u001b[39marguments),\n\u001b[0;32m    308\u001b[0m         \u001b[39mFutureWarning\u001b[39;00m,\n\u001b[0;32m    309\u001b[0m         stacklevel\u001b[39m=\u001b[39mstacklevel,\n\u001b[0;32m    310\u001b[0m     )\n\u001b[1;32m--> 311\u001b[0m \u001b[39mreturn\u001b[39;00m func(\u001b[39m*\u001b[39;49margs, \u001b[39m*\u001b[39;49m\u001b[39m*\u001b[39;49mkwargs)\n",
            "File \u001b[1;32m~\\AppData\\Local\\Packages\\PythonSoftwareFoundation.Python.3.8_qbz5n2kfra8p0\\LocalCache\\local-packages\\Python38\\site-packages\\pandas\\core\\frame.py:5839\u001b[0m, in \u001b[0;36mDataFrame.reset_index\u001b[1;34m(self, level, drop, inplace, col_level, col_fill)\u001b[0m\n\u001b[0;32m   5833\u001b[0m         \u001b[39mif\u001b[39;00m lab \u001b[39mis\u001b[39;00m \u001b[39mnot\u001b[39;00m \u001b[39mNone\u001b[39;00m:\n\u001b[0;32m   5834\u001b[0m             \u001b[39m# if we have the codes, extract the values with a mask\u001b[39;00m\n\u001b[0;32m   5835\u001b[0m             level_values \u001b[39m=\u001b[39m algorithms\u001b[39m.\u001b[39mtake(\n\u001b[0;32m   5836\u001b[0m                 level_values, lab, allow_fill\u001b[39m=\u001b[39m\u001b[39mTrue\u001b[39;00m, fill_value\u001b[39m=\u001b[39mlev\u001b[39m.\u001b[39m_na_value\n\u001b[0;32m   5837\u001b[0m             )\n\u001b[1;32m-> 5839\u001b[0m         new_obj\u001b[39m.\u001b[39;49minsert(\u001b[39m0\u001b[39;49m, name, level_values)\n\u001b[0;32m   5841\u001b[0m new_obj\u001b[39m.\u001b[39mindex \u001b[39m=\u001b[39m new_index\n\u001b[0;32m   5842\u001b[0m \u001b[39mif\u001b[39;00m \u001b[39mnot\u001b[39;00m inplace:\n",
            "File \u001b[1;32m~\\AppData\\Local\\Packages\\PythonSoftwareFoundation.Python.3.8_qbz5n2kfra8p0\\LocalCache\\local-packages\\Python38\\site-packages\\pandas\\core\\frame.py:4440\u001b[0m, in \u001b[0;36mDataFrame.insert\u001b[1;34m(self, loc, column, value, allow_duplicates)\u001b[0m\n\u001b[0;32m   4434\u001b[0m     \u001b[39mraise\u001b[39;00m \u001b[39mValueError\u001b[39;00m(\n\u001b[0;32m   4435\u001b[0m         \u001b[39m\"\u001b[39m\u001b[39mCannot specify \u001b[39m\u001b[39m'\u001b[39m\u001b[39mallow_duplicates=True\u001b[39m\u001b[39m'\u001b[39m\u001b[39m when \u001b[39m\u001b[39m\"\u001b[39m\n\u001b[0;32m   4436\u001b[0m         \u001b[39m\"\u001b[39m\u001b[39m'\u001b[39m\u001b[39mself.flags.allows_duplicate_labels\u001b[39m\u001b[39m'\u001b[39m\u001b[39m is False.\u001b[39m\u001b[39m\"\u001b[39m\n\u001b[0;32m   4437\u001b[0m     )\n\u001b[0;32m   4438\u001b[0m \u001b[39mif\u001b[39;00m \u001b[39mnot\u001b[39;00m allow_duplicates \u001b[39mand\u001b[39;00m column \u001b[39min\u001b[39;00m \u001b[39mself\u001b[39m\u001b[39m.\u001b[39mcolumns:\n\u001b[0;32m   4439\u001b[0m     \u001b[39m# Should this be a different kind of error??\u001b[39;00m\n\u001b[1;32m-> 4440\u001b[0m     \u001b[39mraise\u001b[39;00m \u001b[39mValueError\u001b[39;00m(\u001b[39mf\u001b[39m\u001b[39m\"\u001b[39m\u001b[39mcannot insert \u001b[39m\u001b[39m{\u001b[39;00mcolumn\u001b[39m}\u001b[39;00m\u001b[39m, already exists\u001b[39m\u001b[39m\"\u001b[39m)\n\u001b[0;32m   4441\u001b[0m \u001b[39mif\u001b[39;00m \u001b[39mnot\u001b[39;00m \u001b[39misinstance\u001b[39m(loc, \u001b[39mint\u001b[39m):\n\u001b[0;32m   4442\u001b[0m     \u001b[39mraise\u001b[39;00m \u001b[39mTypeError\u001b[39;00m(\u001b[39m\"\u001b[39m\u001b[39mloc must be int\u001b[39m\u001b[39m\"\u001b[39m)\n",
            "\u001b[1;31mValueError\u001b[0m: cannot insert level_0, already exists"
          ]
        }
      ],
      "source": []
    },
    {
      "cell_type": "code",
      "execution_count": null,
      "metadata": {},
      "outputs": [],
      "source": [
        "for i, row in enumerate(precios_20200503['precio']): \n",
        "    if row == '': \n",
        "        precios_20200503 =  precios_20200503.drop(i, axis=0)"
      ]
    },
    {
      "cell_type": "code",
      "execution_count": null,
      "metadata": {},
      "outputs": [
        {
          "name": "stdout",
          "output_type": "stream",
          "text": [
            "352024\n"
          ]
        }
      ],
      "source": [
        "for i, row in enumerate(precios_20200503['precio']): \n",
        "    if row == '': \n",
        "        print(i)\n",
        "        break"
      ]
    },
    {
      "cell_type": "code",
      "execution_count": null,
      "metadata": {
        "id": "_U6uQBKLRxEU"
      },
      "outputs": [],
      "source": [
        "# Concatenamos todos los dataset de precios\n",
        "precios = pd.concat([precios_20200413, precios_20200426, precios_20200503, precios_20200518], axis=0)"
      ]
    },
    {
      "cell_type": "markdown",
      "metadata": {
        "id": "qqLeo2KrhGN6"
      },
      "source": []
    },
    {
      "cell_type": "code",
      "execution_count": null,
      "metadata": {
        "id": "0JQ_i1CcSYQf"
      },
      "outputs": [
        {
          "ename": "TypeError",
          "evalue": "cannot convert the series to <class 'int'>",
          "output_type": "error",
          "traceback": [
            "\u001b[1;31m---------------------------------------------------------------------------\u001b[0m",
            "\u001b[1;31mTypeError\u001b[0m                                 Traceback (most recent call last)",
            "Cell \u001b[1;32mIn [218], line 2\u001b[0m\n\u001b[0;32m      1\u001b[0m \u001b[39mfor\u001b[39;00m i \u001b[39min\u001b[39;00m \u001b[39mrange\u001b[39m(\u001b[39mlen\u001b[39m(precios[\u001b[39m'\u001b[39m\u001b[39msucursal_id\u001b[39m\u001b[39m'\u001b[39m])):\n\u001b[1;32m----> 2\u001b[0m     precios[\u001b[39m'\u001b[39m\u001b[39msucursal_id\u001b[39m\u001b[39m'\u001b[39m][i] \u001b[39m=\u001b[39m re\u001b[39m.\u001b[39msub(\u001b[39mr\u001b[39m\u001b[39m'\u001b[39m\u001b[39m\\\u001b[39m\u001b[39mD\u001b[39m\u001b[39m'\u001b[39m, \u001b[39m\"\u001b[39m\u001b[39m\"\u001b[39m, \u001b[39mstr\u001b[39m(\u001b[39mint\u001b[39m(precios[\u001b[39m'\u001b[39m\u001b[39msucursal_id\u001b[39m\u001b[39m'\u001b[39m][i])))\n\u001b[0;32m      4\u001b[0m \u001b[39mfor\u001b[39;00m i \u001b[39min\u001b[39;00m \u001b[39mrange\u001b[39m(\u001b[39mlen\u001b[39m(precios[\u001b[39m'\u001b[39m\u001b[39mproducto_id\u001b[39m\u001b[39m'\u001b[39m])):\n\u001b[0;32m      5\u001b[0m     precios[\u001b[39m'\u001b[39m\u001b[39mproducto_id \u001b[39m\u001b[39m'\u001b[39m][i] \u001b[39m=\u001b[39m re\u001b[39m.\u001b[39msub(\u001b[39mr\u001b[39m\u001b[39m'\u001b[39m\u001b[39m\\\u001b[39m\u001b[39mD\u001b[39m\u001b[39m'\u001b[39m, \u001b[39m\"\u001b[39m\u001b[39m\"\u001b[39m, \u001b[39mstr\u001b[39m(\u001b[39mint\u001b[39m(precios[\u001b[39m'\u001b[39m\u001b[39mproducto_id \u001b[39m\u001b[39m'\u001b[39m][i])))\n",
            "File \u001b[1;32m~\\AppData\\Local\\Packages\\PythonSoftwareFoundation.Python.3.8_qbz5n2kfra8p0\\LocalCache\\local-packages\\Python38\\site-packages\\pandas\\core\\series.py:191\u001b[0m, in \u001b[0;36m_coerce_method.<locals>.wrapper\u001b[1;34m(self)\u001b[0m\n\u001b[0;32m    189\u001b[0m \u001b[39mif\u001b[39;00m \u001b[39mlen\u001b[39m(\u001b[39mself\u001b[39m) \u001b[39m==\u001b[39m \u001b[39m1\u001b[39m:\n\u001b[0;32m    190\u001b[0m     \u001b[39mreturn\u001b[39;00m converter(\u001b[39mself\u001b[39m\u001b[39m.\u001b[39miloc[\u001b[39m0\u001b[39m])\n\u001b[1;32m--> 191\u001b[0m \u001b[39mraise\u001b[39;00m \u001b[39mTypeError\u001b[39;00m(\u001b[39mf\u001b[39m\u001b[39m\"\u001b[39m\u001b[39mcannot convert the series to \u001b[39m\u001b[39m{\u001b[39;00mconverter\u001b[39m}\u001b[39;00m\u001b[39m\"\u001b[39m)\n",
            "\u001b[1;31mTypeError\u001b[0m: cannot convert the series to <class 'int'>"
          ]
        }
      ],
      "source": [
        "for i in range(len(precios['sucursal_id'])):\n",
        "    precios['sucursal_id'][i] = re.sub(r'\\D', \"\", str(int(precios['sucursal_id'][i])))\n",
        "\n",
        "for i in range(len(precios['producto_id'])):\n",
        "    precios['producto_id '][i] = re.sub(r'\\D', \"\", str(int(precios['producto_id '][i])))\n",
        "\n",
        "precios['sucursal_id'] = precios['sucursal_id'].astype(int)\n",
        "precios['producto_id'] = precios['producto_id'].astype(int)\n",
        "precios['precio'] = precios['precio'].astype(float)"
      ]
    }
  ],
  "metadata": {
    "colab": {
      "provenance": []
    },
    "kernelspec": {
      "display_name": "Python 3.8.10 64-bit (microsoft store)",
      "language": "python",
      "name": "python3"
    },
    "language_info": {
      "codemirror_mode": {
        "name": "ipython",
        "version": 3
      },
      "file_extension": ".py",
      "mimetype": "text/x-python",
      "name": "python",
      "nbconvert_exporter": "python",
      "pygments_lexer": "ipython3",
      "version": "3.8.10"
    },
    "vscode": {
      "interpreter": {
        "hash": "cde544f8739533cebef63bf12999052a10729ddf7c121822866b350ee78941c5"
      }
    }
  },
  "nbformat": 4,
  "nbformat_minor": 0
}
